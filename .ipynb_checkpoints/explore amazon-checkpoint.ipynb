{
 "cells": [
  {
   "cell_type": "code",
   "execution_count": 2,
   "metadata": {
    "collapsed": true
   },
   "outputs": [],
   "source": [
    "from amazonproduct import API\n",
    "api=API(locale='us')\n"
   ]
  },
  {
   "cell_type": "code",
   "execution_count": 4,
   "metadata": {
    "collapsed": true
   },
   "outputs": [],
   "source": [
    "garden=api.item_search('LawnAndGarden',Keywords='shovel')"
   ]
  },
  {
   "cell_type": "markdown",
   "metadata": {},
   "source": [
    "for item in garden:\n",
    "    x=item"
   ]
  },
  {
   "cell_type": "code",
   "execution_count": 19,
   "metadata": {
    "collapsed": false,
    "scrolled": false
   },
   "outputs": [
    {
     "name": "stdout",
     "output_type": "stream",
     "text": [
      "Emsco Group 1170 Child's Snow Shovel\n",
      "Emsco Group\n",
      "B000HHM19Y\n"
     ]
    }
   ],
   "source": [
    "print x.ItemAttributes.Title\n",
    "print x.ItemAttributes.Manufacturer\n",
    "print x.ASIN"
   ]
  },
  {
   "cell_type": "code",
   "execution_count": 60,
   "metadata": {
    "collapsed": false
   },
   "outputs": [],
   "source": [
    "new_item=api.item_lookup('B004G7RCUY',ResponseGroup='OfferSummary')\n",
    "offer_full=api.item_lookup('B004G7RCUY',ResponseGroup='OfferFull')\n",
    "large=api.item_lookup('B004G7RCUY',ResponseGroup='Large')"
   ]
  },
  {
   "cell_type": "code",
   "execution_count": 61,
   "metadata": {
    "collapsed": false
   },
   "outputs": [
    {
     "name": "stdout",
     "output_type": "stream",
     "text": [
      "11007\n"
     ]
    }
   ],
   "source": [
    "print new_item.Items.Item.OfferSummary.LowestNewPrice.Amount\n"
   ]
  },
  {
   "cell_type": "code",
   "execution_count": 68,
   "metadata": {
    "collapsed": false
   },
   "outputs": [
    {
     "ename": "SyntaxError",
     "evalue": "invalid syntax (<ipython-input-68-1ef6744dc97e>, line 16)",
     "output_type": "error",
     "traceback": [
      "\u001b[1;36m  File \u001b[1;32m\"<ipython-input-68-1ef6744dc97e>\"\u001b[1;36m, line \u001b[1;32m16\u001b[0m\n\u001b[1;33m    print large.Items.Item.ItemAttributes.\u001b[0m\n\u001b[1;37m                                          ^\u001b[0m\n\u001b[1;31mSyntaxError\u001b[0m\u001b[1;31m:\u001b[0m invalid syntax\n"
     ]
    }
   ],
   "source": [
    "\n",
    "print large.Items.Item.LargeImage\n",
    "print large.Items.Item.ItemAttributes.Brand\n",
    "print large.Items.Item.ItemAttributes.EAN\n",
    "print large.Items.Item.ItemAttributes.Label\n",
    "#print large.Items.Item.ItemAttributes\n",
    "print large.Items.Item.ItemAttributes.Manufacturer\n",
    "print large.Items.Item.ItemAttributes.Title\n",
    "print large.Items.Item.ItemAttributes.Binding\n",
    "print large.Items.Item.ItemAttributes.UPC\n",
    "\n",
    "print large.Items.Item.ASIN\n",
    "print large.Items.Item.OfferSummary.LowestNewPrice\n",
    "print large.Items.Item.OfferSummary.TotalNew\n",
    "print large.Items.Item.OfferSummary.TotalUsed\n",
    "print large.Items.Item.ItemAttributes.\n"
   ]
  },
  {
   "cell_type": "code",
   "execution_count": 93,
   "metadata": {
    "collapsed": false
   },
   "outputs": [],
   "source": [
    "def listElements(container):\n",
    "    sep='\\n'+container+'.'\n",
    "    print container +'.' + sep.join(sorted([i for i in vars(eval(container))]))\n"
   ]
  },
  {
   "cell_type": "code",
   "execution_count": 95,
   "metadata": {
    "collapsed": false
   },
   "outputs": [
    {
     "name": "stdout",
     "output_type": "stream",
     "text": [
      "large.Items.Item.ASIN\n",
      "large.Items.Item.Accessories\n",
      "large.Items.Item.BrowseNodes\n",
      "large.Items.Item.CustomerReviews\n",
      "large.Items.Item.DetailPageURL\n",
      "large.Items.Item.EditorialReviews\n",
      "large.Items.Item.ImageSets\n",
      "large.Items.Item.ItemAttributes\n",
      "large.Items.Item.ItemLinks\n",
      "large.Items.Item.LargeImage\n",
      "large.Items.Item.MediumImage\n",
      "large.Items.Item.OfferSummary\n",
      "large.Items.Item.Offers\n",
      "large.Items.Item.ParentASIN\n",
      "large.Items.Item.SalesRank\n",
      "large.Items.Item.SimilarProducts\n",
      "large.Items.Item.SmallImage\n"
     ]
    }
   ],
   "source": [
    "listElements('large.Items.Item')"
   ]
  },
  {
   "cell_type": "code",
   "execution_count": 97,
   "metadata": {
    "collapsed": false
   },
   "outputs": [
    {
     "name": "stdout",
     "output_type": "stream",
     "text": [
      "large.Items.Item.ItemAttributes.Binding\n",
      "large.Items.Item.ItemAttributes.Brand\n",
      "large.Items.Item.ItemAttributes.CatalogNumberList\n",
      "large.Items.Item.ItemAttributes.Color\n",
      "large.Items.Item.ItemAttributes.EAN\n",
      "large.Items.Item.ItemAttributes.EANList\n",
      "large.Items.Item.ItemAttributes.Feature\n",
      "large.Items.Item.ItemAttributes.IsAdultProduct\n",
      "large.Items.Item.ItemAttributes.ItemDimensions\n",
      "large.Items.Item.ItemAttributes.Label\n",
      "large.Items.Item.ItemAttributes.MPN\n",
      "large.Items.Item.ItemAttributes.Manufacturer\n",
      "large.Items.Item.ItemAttributes.Model\n",
      "large.Items.Item.ItemAttributes.NumberOfItems\n",
      "large.Items.Item.ItemAttributes.PackageDimensions\n",
      "large.Items.Item.ItemAttributes.PackageQuantity\n",
      "large.Items.Item.ItemAttributes.PartNumber\n",
      "large.Items.Item.ItemAttributes.ProductGroup\n",
      "large.Items.Item.ItemAttributes.ProductTypeName\n",
      "large.Items.Item.ItemAttributes.Publisher\n",
      "large.Items.Item.ItemAttributes.Size\n",
      "large.Items.Item.ItemAttributes.Studio\n",
      "large.Items.Item.ItemAttributes.Title\n",
      "large.Items.Item.ItemAttributes.UPC\n",
      "large.Items.Item.ItemAttributes.UPCList\n",
      "large.Items.Item.ItemAttributes.Warranty\n"
     ]
    }
   ],
   "source": [
    "listElements('large.Items.Item.ItemAttributes')"
   ]
  },
  {
   "cell_type": "code",
   "execution_count": 98,
   "metadata": {
    "collapsed": false
   },
   "outputs": [
    {
     "name": "stdout",
     "output_type": "stream",
     "text": [
      "large.Items.Item.Offers.MoreOffersUrl\n",
      "large.Items.Item.Offers.TotalOfferPages\n",
      "large.Items.Item.Offers.TotalOffers\n"
     ]
    }
   ],
   "source": [
    "listElements('large.Items.Item.Offers')"
   ]
  },
  {
   "cell_type": "code",
   "execution_count": 99,
   "metadata": {
    "collapsed": false
   },
   "outputs": [
    {
     "name": "stdout",
     "output_type": "stream",
     "text": [
      "large.Items.Item.OfferSummary.LowestNewPrice\n",
      "large.Items.Item.OfferSummary.TotalCollectible\n",
      "large.Items.Item.OfferSummary.TotalNew\n",
      "large.Items.Item.OfferSummary.TotalRefurbished\n",
      "large.Items.Item.OfferSummary.TotalUsed\n"
     ]
    }
   ],
   "source": [
    "listElements('large.Items.Item.OfferSummary')"
   ]
  },
  {
   "cell_type": "code",
   "execution_count": 103,
   "metadata": {
    "collapsed": false
   },
   "outputs": [
    {
     "name": "stdout",
     "output_type": "stream",
     "text": [
      "large.Items.Item.OfferSummary.LowestNewPrice.Amount\n",
      "large.Items.Item.OfferSummary.LowestNewPrice.CurrencyCode\n",
      "large.Items.Item.OfferSummary.LowestNewPrice.FormattedPrice\n"
     ]
    }
   ],
   "source": [
    "listElements('large.Items.Item.OfferSummary.LowestNewPrice')"
   ]
  },
  {
   "cell_type": "code",
   "execution_count": 105,
   "metadata": {
    "collapsed": false
   },
   "outputs": [],
   "source": [
    "import oauth2client"
   ]
  },
  {
   "cell_type": "code",
   "execution_count": 1,
   "metadata": {
    "collapsed": false
   },
   "outputs": [
    {
     "ename": "NameError",
     "evalue": "name 'large' is not defined",
     "output_type": "error",
     "traceback": [
      "\u001b[1;31m---------------------------------------------------------------------------\u001b[0m",
      "\u001b[1;31mNameError\u001b[0m                                 Traceback (most recent call last)",
      "\u001b[1;32m<ipython-input-1-e4e9da70ab86>\u001b[0m in \u001b[0;36m<module>\u001b[1;34m()\u001b[0m\n\u001b[0;32m      1\u001b[0m \u001b[1;31m#print large.Items.Item.Offers.Offer.OfferListing.Availability\u001b[0m\u001b[1;33m\u001b[0m\u001b[1;33m\u001b[0m\u001b[0m\n\u001b[1;32m----> 2\u001b[1;33m \u001b[1;32mprint\u001b[0m \u001b[0mlarge\u001b[0m\u001b[1;33m.\u001b[0m\u001b[0mItems\u001b[0m\u001b[1;33m.\u001b[0m\u001b[0mItem\u001b[0m\u001b[1;33m.\u001b[0m\u001b[0mOffers\u001b[0m\u001b[1;33m.\u001b[0m\u001b[0mOffer\u001b[0m\u001b[1;33m.\u001b[0m\u001b[0mOfferListing\u001b[0m\u001b[1;33m.\u001b[0m\u001b[0mAvailabilityAttributes\u001b[0m\u001b[1;33m.\u001b[0m\u001b[0mMaximumHours\u001b[0m\u001b[1;33m\u001b[0m\u001b[0m\n\u001b[0m\u001b[0;32m      3\u001b[0m \u001b[1;32mprint\u001b[0m \u001b[0mlarge\u001b[0m\u001b[1;33m.\u001b[0m\u001b[0mItems\u001b[0m\u001b[1;33m.\u001b[0m\u001b[0mItem\u001b[0m\u001b[1;33m.\u001b[0m\u001b[0mOffers\u001b[0m\u001b[1;33m.\u001b[0m\u001b[0mOffer\u001b[0m\u001b[1;33m.\u001b[0m\u001b[0mOfferListing\u001b[0m\u001b[1;33m.\u001b[0m\u001b[0mAvailabilityAttributes\u001b[0m\u001b[1;33m.\u001b[0m\u001b[0mMinimumHours\u001b[0m\u001b[1;33m\u001b[0m\u001b[0m\n\u001b[0;32m      4\u001b[0m \u001b[1;32mprint\u001b[0m \u001b[0mlarge\u001b[0m\u001b[1;33m.\u001b[0m\u001b[0mItems\u001b[0m\u001b[1;33m.\u001b[0m\u001b[0mItem\u001b[0m\u001b[1;33m.\u001b[0m\u001b[0mOffers\u001b[0m\u001b[1;33m.\u001b[0m\u001b[0mOffer\u001b[0m\u001b[1;33m.\u001b[0m\u001b[0mOfferListing\u001b[0m\u001b[1;33m.\u001b[0m\u001b[0mAvailabilityAttributes\u001b[0m\u001b[1;33m.\u001b[0m\u001b[0mAvailabilityType\u001b[0m\u001b[1;33m\u001b[0m\u001b[0m\n\u001b[0;32m      5\u001b[0m \u001b[1;32mprint\u001b[0m \u001b[0mlarge\u001b[0m\u001b[1;33m.\u001b[0m\u001b[0mItems\u001b[0m\u001b[1;33m.\u001b[0m\u001b[0mItem\u001b[0m\u001b[1;33m.\u001b[0m\u001b[0mOffers\u001b[0m\u001b[1;33m.\u001b[0m\u001b[0mOffer\u001b[0m\u001b[1;33m.\u001b[0m\u001b[0mOfferAttributes\u001b[0m\u001b[1;33m.\u001b[0m\u001b[0mCondition\u001b[0m\u001b[1;33m\u001b[0m\u001b[0m\n",
      "\u001b[1;31mNameError\u001b[0m: name 'large' is not defined"
     ]
    }
   ],
   "source": [
    "#print large.Items.Item.Offers.Offer.OfferListing.Availability\n",
    "print large.Items.Item.Offers.Offer.OfferListing.AvailabilityAttributes.MaximumHours\n",
    "print large.Items.Item.Offers.Offer.OfferListing.AvailabilityAttributes.MinimumHours\n",
    "print large.Items.Item.Offers.Offer.OfferListing.AvailabilityAttributes.AvailabilityType\n",
    "print large.Items.Item.Offers.Offer.OfferAttributes.Condition\n",
    "\n",
    "print large.Items.Item.Offers.Offer.OfferListing.IsEligibleForPrime\n",
    "print large.Items.Item.Offers.Offer.OfferListing.IsEligibleForSuperSaverShipping\n",
    "print large.Items.Item.Offers.Offer.OfferListing.Price.FormattedPrice\n"
   ]
  },
  {
   "cell_type": "code",
   "execution_count": 55,
   "metadata": {
    "collapsed": false
   },
   "outputs": [],
   "source": [
    "from ebaysdk.finding import Connection\n",
    "\n",
    "def find_ebay_items(\n",
    "    keywords='legos',\n",
    "    appid='RobertWe-df04-448e-9531-7b724fabb896',\n",
    "    config_file='/media/roberto/Main Storage/Documents/Oauth/ebay/ebay_api_config.yaml'\n",
    "    ):\n",
    "\n",
    "    ebay_api=Connection(appid=appid,config_file=config_file,domain='svcs.ebay.com')\n",
    "    api_request={\n",
    "        'keywords':keywords,\n",
    "        'itemFilter':[\n",
    "            {'name':'Condition',\n",
    "            'value':'New'},\n",
    "            {'name':'LocatedIn',\n",
    "            'value':'US'}\n",
    "        ],\n",
    "        'sortOrder': 'BestMatch'\n",
    "    }\n",
    "\n",
    "    response = ebay_api.execute('findItemsAdvanced', api_request)\n",
    "    return(response.reply.searchResult.item)\n",
    "    \n"
   ]
  },
  {
   "cell_type": "code",
   "execution_count": 56,
   "metadata": {
    "collapsed": false
   },
   "outputs": [
    {
     "name": "stdout",
     "output_type": "stream",
     "text": [
      "LEGO Star Wars Jabba's Sail Barge Set # 75020 - Brand New Sealed +FREE SHIP\n",
      "LEGO set The Avengers Quinjet Aerial Battle 6869 New Sealed! NIB Retired! Widow!\n",
      "New and Sealed LEGO Spongebob The Flying Dutchman 3817 - 241 Pieces - AWESOME!\n",
      "LEGO set The Hobbit Barrel Escape 79004 Complete! New in Box Sealed! NIB Retired\n",
      "500 Brand New Bulk Lot LEGO compatible and LEGO Bricks Blocks Parts and Pieces\n"
     ]
    }
   ],
   "source": [
    "results=find_ebay_items()\n",
    "\n",
    "for i in results[0:5]:\n",
    "    print i.title\n"
   ]
  },
  {
   "cell_type": "code",
   "execution_count": 57,
   "metadata": {
    "collapsed": false
   },
   "outputs": [
    {
     "name": "stderr",
     "output_type": "stream",
     "text": [
      "ERROR:ebaysdk:FindPopularSearches: Internal Server Error, Domain: CoreRuntime, Severity: Error, errorId: 2000, Service operation FindPopularSearches is unknown\n"
     ]
    },
    {
     "ename": "ConnectionError",
     "evalue": "u'FindPopularSearches: Internal Server Error, Domain: CoreRuntime, Severity: Error, errorId: 2000, Service operation FindPopularSearches is unknown'",
     "output_type": "error",
     "traceback": [
      "\u001b[1;31m---------------------------------------------------------------------------\u001b[0m",
      "\u001b[1;31mConnectionError\u001b[0m                           Traceback (most recent call last)",
      "\u001b[1;32m<ipython-input-57-1302aa786106>\u001b[0m in \u001b[0;36m<module>\u001b[1;34m()\u001b[0m\n\u001b[0;32m      7\u001b[0m         }\n\u001b[0;32m      8\u001b[0m \u001b[1;33m\u001b[0m\u001b[0m\n\u001b[1;32m----> 9\u001b[1;33m \u001b[0mresponse\u001b[0m \u001b[1;33m=\u001b[0m \u001b[0mebay_api\u001b[0m\u001b[1;33m.\u001b[0m\u001b[0mexecute\u001b[0m\u001b[1;33m(\u001b[0m\u001b[1;34m'FindPopularSearches'\u001b[0m\u001b[1;33m,\u001b[0m \u001b[0mmySearch\u001b[0m\u001b[1;33m)\u001b[0m\u001b[1;33m\u001b[0m\u001b[0m\n\u001b[0m",
      "\u001b[1;32m/home/roberto/anaconda3/envs/python2/lib/python2.7/site-packages/ebaysdk/connection.pyc\u001b[0m in \u001b[0;36mexecute\u001b[1;34m(self, verb, data, list_nodes, verb_attrs, files)\u001b[0m\n\u001b[0;32m    121\u001b[0m         \u001b[1;32mif\u001b[0m \u001b[0mhasattr\u001b[0m\u001b[1;33m(\u001b[0m\u001b[0mself\u001b[0m\u001b[1;33m.\u001b[0m\u001b[0mresponse\u001b[0m\u001b[1;33m,\u001b[0m \u001b[1;34m'content'\u001b[0m\u001b[1;33m)\u001b[0m\u001b[1;33m:\u001b[0m\u001b[1;33m\u001b[0m\u001b[0m\n\u001b[0;32m    122\u001b[0m             \u001b[0mself\u001b[0m\u001b[1;33m.\u001b[0m\u001b[0mprocess_response\u001b[0m\u001b[1;33m(\u001b[0m\u001b[1;33m)\u001b[0m\u001b[1;33m\u001b[0m\u001b[0m\n\u001b[1;32m--> 123\u001b[1;33m             \u001b[0mself\u001b[0m\u001b[1;33m.\u001b[0m\u001b[0merror_check\u001b[0m\u001b[1;33m(\u001b[0m\u001b[1;33m)\u001b[0m\u001b[1;33m\u001b[0m\u001b[0m\n\u001b[0m\u001b[0;32m    124\u001b[0m \u001b[1;33m\u001b[0m\u001b[0m\n\u001b[0;32m    125\u001b[0m         \u001b[0mlog\u001b[0m\u001b[1;33m.\u001b[0m\u001b[0mdebug\u001b[0m\u001b[1;33m(\u001b[0m\u001b[1;34m'total time=%s'\u001b[0m \u001b[1;33m%\u001b[0m \u001b[1;33m(\u001b[0m\u001b[0mtime\u001b[0m\u001b[1;33m.\u001b[0m\u001b[0mtime\u001b[0m\u001b[1;33m(\u001b[0m\u001b[1;33m)\u001b[0m \u001b[1;33m-\u001b[0m \u001b[0mself\u001b[0m\u001b[1;33m.\u001b[0m\u001b[0m_time\u001b[0m\u001b[1;33m)\u001b[0m\u001b[1;33m)\u001b[0m\u001b[1;33m\u001b[0m\u001b[0m\n",
      "\u001b[1;32m/home/roberto/anaconda3/envs/python2/lib/python2.7/site-packages/ebaysdk/connection.pyc\u001b[0m in \u001b[0;36merror_check\u001b[1;34m(self)\u001b[0m\n\u001b[0;32m    211\u001b[0m         \u001b[1;32mif\u001b[0m \u001b[0mestr\u001b[0m \u001b[1;32mand\u001b[0m \u001b[0mself\u001b[0m\u001b[1;33m.\u001b[0m\u001b[0mconfig\u001b[0m\u001b[1;33m.\u001b[0m\u001b[0mget\u001b[0m\u001b[1;33m(\u001b[0m\u001b[1;34m'errors'\u001b[0m\u001b[1;33m,\u001b[0m \u001b[0mTrue\u001b[0m\u001b[1;33m)\u001b[0m\u001b[1;33m:\u001b[0m\u001b[1;33m\u001b[0m\u001b[0m\n\u001b[0;32m    212\u001b[0m             \u001b[0mlog\u001b[0m\u001b[1;33m.\u001b[0m\u001b[0merror\u001b[0m\u001b[1;33m(\u001b[0m\u001b[0mestr\u001b[0m\u001b[1;33m)\u001b[0m\u001b[1;33m\u001b[0m\u001b[0m\n\u001b[1;32m--> 213\u001b[1;33m             \u001b[1;32mraise\u001b[0m \u001b[0mConnectionError\u001b[0m\u001b[1;33m(\u001b[0m\u001b[0mestr\u001b[0m\u001b[1;33m,\u001b[0m \u001b[0mself\u001b[0m\u001b[1;33m.\u001b[0m\u001b[0mresponse\u001b[0m\u001b[1;33m)\u001b[0m\u001b[1;33m\u001b[0m\u001b[0m\n\u001b[0m\u001b[0;32m    214\u001b[0m \u001b[1;33m\u001b[0m\u001b[0m\n\u001b[0;32m    215\u001b[0m     \u001b[1;32mdef\u001b[0m \u001b[0mresponse_codes\u001b[0m\u001b[1;33m(\u001b[0m\u001b[0mself\u001b[0m\u001b[1;33m)\u001b[0m\u001b[1;33m:\u001b[0m\u001b[1;33m\u001b[0m\u001b[0m\n",
      "\u001b[1;31mConnectionError\u001b[0m: u'FindPopularSearches: Internal Server Error, Domain: CoreRuntime, Severity: Error, errorId: 2000, Service operation FindPopularSearches is unknown'"
     ]
    }
   ],
   "source": [
    "appid='RobertWe-df04-448e-9531-7b724fabb896'\n",
    "config_file='/media/roberto/Main Storage/Documents/Oauth/ebay/ebay_api_config.yaml'\n",
    "ebay_api=Connection(appid=appid,config_file=config_file,domain='svcs.ebay.com')\n",
    "mySearch = {    \n",
    "            \"MaxKeywords\": 10,\n",
    "            \"QueryKeywords\": 'shirt',\n",
    "        }\n",
    "\n",
    "response = ebay_api.execute('FindPopularSearches', mySearch)\n"
   ]
  },
  {
   "cell_type": "code",
   "execution_count": 59,
   "metadata": {
    "collapsed": false
   },
   "outputs": [
    {
     "name": "stdout",
     "output_type": "stream",
     "text": [
      "Shopping samples for SDK version 2.1.2\n",
      "Matching Titles:\n",
      "DIRECTED DSM200 SMARTSTART REMOTE START iPHONE APP MODULE FOR CAR ALARM VSM200\n",
      "Python 413 Car Remote Start with Keyless Entry/ Car Auto Starter Python 4103P\n",
      "OneSixthKit 1/6 Scale Colt Python .357 Magnum Caliber Revolver For Rick Custom\n",
      "NEW 25 ft Python stereo 2-RCA male to male gold audio cable\n",
      "NEW DEI 506T GLASS BREAK WINDOW AUDIO CAR ALARM SENSOR VIPER CLIFFORD PYTHON W@\n",
      "TALKING VOICE  ALARM MODULE FOR VIPER CLIFFORD PYTHON  AVITAL INVISIBEAM\n",
      "Python 533 Car Remote Start /Security/ Keyless Entry 2-Way System Python 5303\n",
      "Umarex Colt Python .357 Magnum Revolver CO2 BB Pellet Airsoft Pistol - 2254032\n",
      "Master Lock Python Adjustable Locking Cable, 8417D, 6-Foot, New, Free Shipping\n",
      "Python 513 5103P 1-way Auto Alarm and Remote Car Start Starter System\n",
      "Python 2 Way Remote Start & Security Alarm w/ Keyless Entry 5303P Avital 5303\n",
      "New CAR ALARM AVITAL 3100L DEI ALARM BY VIPER CLIFFORD PYTHON KEYLESS ENTRY\n",
      "Toy Lighter Python revolver dummy model Colt .357 Magnum costume party cosplay\n",
      "37cm Python lighter revolver jet torch gun costume theme party prop film 8 inch\n",
      "Blue Alarm LED light BRIGHT! Viper Python Clifford NEW!\n",
      "41\" Japanese Samurai Sword Katana Clay Tempered Blade Python Tsuba Hualee Saya\n",
      "Python 5106P 1-way Remote Car Auto Start & Alarm System w/ Keyless Entry\n",
      "PELGIO Genuine Python Belly Skin Leather Men's Bifold Wallet Black Free Shipping\n",
      "Master Lock Camo Python Cable For Moultrie Covert Trail Cams and Camlock Boxes\n",
      "NEW DEI 506T GLASS BREAK WINDOW AUDIO CAR ALARM SENSOR VIPER CLIFFORD PYTHON\n"
     ]
    }
   ],
   "source": [
    "\n",
    "import ebaysdk\n",
    "from ebaysdk.exception import ConnectionError\n",
    "from ebaysdk.shopping import Connection as Shopping\n",
    "\n",
    "appid='RobertWe-df04-448e-9531-7b724fabb896'\n",
    "config_file='/media/roberto/Main Storage/Documents/Oauth/ebay/ebay_api_config.yaml'\n",
    "\n",
    "try:\n",
    "    api = Shopping(appid=appid, config_file=config_file,\n",
    "               warnings=True)\n",
    "\n",
    "    response = api.execute('GetCategoryInfo', {\"CategoryID\": 3410})\n",
    "\n",
    "    dump(api, full=False)\n",
    "\n",
    "except ConnectionError as e:\n",
    "    print(e)\n",
    "    print(e.response.dict())\n"
   ]
  }
 ],
 "metadata": {
  "kernelspec": {
   "display_name": "Python 2",
   "language": "python",
   "name": "python2"
  },
  "language_info": {
   "codemirror_mode": {
    "name": "ipython",
    "version": 2
   },
   "file_extension": ".py",
   "mimetype": "text/x-python",
   "name": "python",
   "nbconvert_exporter": "python",
   "pygments_lexer": "ipython2",
   "version": "2.7.10"
  }
 },
 "nbformat": 4,
 "nbformat_minor": 0
}
