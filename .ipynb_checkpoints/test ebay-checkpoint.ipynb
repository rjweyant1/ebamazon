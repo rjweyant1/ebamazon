{
 "cells": [
  {
   "cell_type": "code",
   "execution_count": 126,
   "metadata": {
    "collapsed": true
   },
   "outputs": [],
   "source": [
    "\n",
    "from ebaysdk.finding import Connection as Finding\n",
    "from ebaysdk.shopping import Connection as Shopping\n",
    "from ebaysdk.trading import Connection as Trading\n",
    "from ebaysdk.exception import ConnectionError"
   ]
  },
  {
   "cell_type": "code",
   "execution_count": 150,
   "metadata": {
    "collapsed": false
   },
   "outputs": [],
   "source": [
    "def verifyAddItemErrorCodes():\n",
    "    \"\"\"http://www.utilities-online.info/xmltojson/#.UXli2it4avc\"\"\"\n",
    "\n",
    "    appid='RobertWe-df04-448e-9531-7b724fabb896'\n",
    "    devid='bead5360-78e5-4271-b541-a31ac39c93dc'\n",
    "    certid='abb3714b-53f3-4184-b0bf-996cabd17cd3'\n",
    "\n",
    "    config_file='/media/roberto/Main Storage/Documents/Oauth/ebay/ebay_api_config.yaml'\n",
    "    \n",
    "    try:\n",
    "        api = Trading(config_file=config_file, appid=appid,\n",
    "                      certid=certid, devid=devid, warnings=False)\n",
    "\n",
    "        myitem = {\n",
    "            \"Item\": {\n",
    "                \"Title\": \"Harry Potter and the Philosopher's Stone\",\n",
    "                \"Description\": \"This is the first book in the Harry Potter series. In excellent condition!\",\n",
    "                \"PrimaryCategory\": {\"CategoryID\": \"377\"},\n",
    "                \"StartPrice\": \"100\",\n",
    "                \"CategoryMappingAllowed\": \"true\",\n",
    "                \"Country\": \"US\",\n",
    "                \"ConditionID\": \"3000\",\n",
    "                \"Currency\": \"USD\",\n",
    "                \"DispatchTimeMax\": \"3\",\n",
    "                \"ListingDuration\": \"Days_7\",\n",
    "                \"ListingType\": \"FixedPriceItem\",\n",
    "                \"PaymentMethods\": \"PayPal\",\n",
    "                \"PayPalEmailAddress\": \"robert.weyant@gmail.com\",\n",
    "                \"PictureDetails\": {\"PictureURL\": \"https://upload.wikimedia.org/wikipedia/en/b/bf/Harry_Potter_and_the_Sorcerer's_Stone.jpg\"},\n",
    "                \"PostalCode\": \"95125\",\n",
    "                \"Quantity\": \"1\",\n",
    "                \"ReturnPolicy\": {\n",
    "                    \"ReturnsAcceptedOption\": \"ReturnsAccepted\",\n",
    "                    \"RefundOption\": \"MoneyBack\",\n",
    "                    \"ReturnsWithinOption\": \"Days_30\",\n",
    "                    \"Description\": \"If you are not satisfied, return the book for refund.\",\n",
    "                    \"ShippingCostPaidByOption\": \"Buyer\"\n",
    "                },\n",
    "                \"ShippingDetails\": {\n",
    "                    \"ShippingType\": \"Flat\",\n",
    "                    \"ShippingServiceOptions\": {\n",
    "                        \"ShippingServicePriority\": \"1\",\n",
    "                        \"ShippingService\": \"UPS3rdDay\",\n",
    "                        \"ShippingServiceCost\": \"2.50\"\n",
    "                    }\n",
    "                },\n",
    "                \"Site\": \"US\"\n",
    "            }\n",
    "        }\n",
    "\n",
    "        return(api.execute('VerifyAddFixedPriceItem', myitem))\n",
    "        #dump(api)\n",
    "\n",
    "    except ConnectionError as e:\n",
    "        print(e)\n",
    "        print(e.response.dict())\n"
   ]
  },
  {
   "cell_type": "code",
   "execution_count": 151,
   "metadata": {
    "collapsed": false,
    "scrolled": true
   },
   "outputs": [
    {
     "name": "stderr",
     "output_type": "stream",
     "text": [
      "2015-08-31 07:20:08,137 ebaysdk [DEBUG]:execute: verb=VerifyAddFixedPriceItem data={'Item': {'ListingType': 'FixedPriceItem', 'ReturnPolicy': {'ReturnsAcceptedOption': 'ReturnsAccepted', 'RefundOption': 'MoneyBack', 'ReturnsWithinOption': 'Days_30', 'Description': 'If you are not satisfied, return the book for refund.', 'ShippingCostPaidByOption': 'Buyer'}, 'Description': 'This is the first book in the Harry Potter series. In excellent condition!', 'DispatchTimeMax': '3', 'Title': \"Harry Potter and the Philosopher's Stone\", 'CategoryMappingAllowed': 'true', 'StartPrice': '1.0', 'ConditionID': '3000', 'Site': 'US', 'PaymentMethods': 'PayPal', 'ListingDuration': 'Days_7', 'Currency': 'USD', 'PayPalEmailAddress': 'robert.weyant@gmail.com', 'Country': 'US', 'PostalCode': '95125', 'ShippingDetails': {'ShippingType': 'Flat', 'ShippingServiceOptions': {'ShippingServicePriority': '1', 'ShippingService': 'UPS3rdDay', 'ShippingServiceCost': '2.50'}}, 'PrimaryCategory': {'CategoryID': '377'}, 'PictureDetails': {'PictureURL': \"https://upload.wikimedia.org/wikipedia/en/b/bf/Harry_Potter_and_the_Sorcerer's_Stone.jpg\"}, 'Quantity': '1'}}\n",
      "DEBUG:ebaysdk:execute: verb=VerifyAddFixedPriceItem data={'Item': {'ListingType': 'FixedPriceItem', 'ReturnPolicy': {'ReturnsAcceptedOption': 'ReturnsAccepted', 'RefundOption': 'MoneyBack', 'ReturnsWithinOption': 'Days_30', 'Description': 'If you are not satisfied, return the book for refund.', 'ShippingCostPaidByOption': 'Buyer'}, 'Description': 'This is the first book in the Harry Potter series. In excellent condition!', 'DispatchTimeMax': '3', 'Title': \"Harry Potter and the Philosopher's Stone\", 'CategoryMappingAllowed': 'true', 'StartPrice': '1.0', 'ConditionID': '3000', 'Site': 'US', 'PaymentMethods': 'PayPal', 'ListingDuration': 'Days_7', 'Currency': 'USD', 'PayPalEmailAddress': 'robert.weyant@gmail.com', 'Country': 'US', 'PostalCode': '95125', 'ShippingDetails': {'ShippingType': 'Flat', 'ShippingServiceOptions': {'ShippingServicePriority': '1', 'ShippingService': 'UPS3rdDay', 'ShippingServiceCost': '2.50'}}, 'PrimaryCategory': {'CategoryID': '377'}, 'PictureDetails': {'PictureURL': \"https://upload.wikimedia.org/wikipedia/en/b/bf/Harry_Potter_and_the_Sorcerer's_Stone.jpg\"}, 'Quantity': '1'}}\n",
      "2015-08-31 07:20:08,142 ebaysdk [DEBUG]:REQUEST (86da1c09-68fd-4440-92d1-9bfe38e236a4): POST https://api.ebay.com/ws/api.dll\n",
      "DEBUG:ebaysdk:REQUEST (86da1c09-68fd-4440-92d1-9bfe38e236a4): POST https://api.ebay.com/ws/api.dll\n",
      "2015-08-31 07:20:08,144 ebaysdk [DEBUG]:headers={'X-EBAY-API-SITEID': 0, 'X-EBAY-API-DEV-NAME': 'bead5360-78e5-4271-b541-a31ac39c93dc', 'X-EBAY-API-CERT-NAME': 'abb3714b-53f3-4184-b0bf-996cabd17cd3', 'Content-Length': '2491', 'X-EBAY-API-APP-NAME': 'RobertWe-df04-448e-9531-7b724fabb896', 'X-EBAY-API-COMPATIBILITY-LEVEL': u'933', 'X-EBAY-SDK-REQUEST-ID': '86da1c09-68fd-4440-92d1-9bfe38e236a4', 'X-EBAY-API-CALL-NAME': 'VerifyAddFixedPriceItem', 'User-Agent': 'eBaySDK/2.1.2 Python/2.7.10 Linux/3.16.0-46-generic', 'Content-Type': 'text/xml'}\n",
      "DEBUG:ebaysdk:headers={'X-EBAY-API-SITEID': 0, 'X-EBAY-API-DEV-NAME': 'bead5360-78e5-4271-b541-a31ac39c93dc', 'X-EBAY-API-CERT-NAME': 'abb3714b-53f3-4184-b0bf-996cabd17cd3', 'Content-Length': '2491', 'X-EBAY-API-APP-NAME': 'RobertWe-df04-448e-9531-7b724fabb896', 'X-EBAY-API-COMPATIBILITY-LEVEL': u'933', 'X-EBAY-SDK-REQUEST-ID': '86da1c09-68fd-4440-92d1-9bfe38e236a4', 'X-EBAY-API-CALL-NAME': 'VerifyAddFixedPriceItem', 'User-Agent': 'eBaySDK/2.1.2 Python/2.7.10 Linux/3.16.0-46-generic', 'Content-Type': 'text/xml'}\n",
      "2015-08-31 07:20:08,145 ebaysdk [DEBUG]:body=<?xml version='1.0' encoding='utf-8'?><VerifyAddFixedPriceItemRequest xmlns=\"urn:ebay:apis:eBLBaseComponents\"><RequesterCredentials><eBayAuthToken>AgAAAA**AQAAAA**aAAAAA**fg/jVQ**nY+sHZ2PrBmdj6wVnY+sEZ2PrA2dj6AGloSmAJCKpgqdj6x9nY+seQ**I2ECAA**AAMAAA**masJkFmCdZkfRve2AxAaHIdgRyrI4h0Nb7aNTrYWzV68AdhViuap3gov6e7Dbb+Ztnhzt9Q5/YpaUJANTltkj2xkfOu4cvbAgCOWDiR0WgY6vNr4S+WPT1LEy5MTr5kX9Q8HJyXgtcy7YWoCM3/hPXmwjZzbCRAHFshDoSFlruLBgYk2lBW1XScCN3psS0u0uxi9ci9Yd4vhI9ddQ7WFKEc+quCB6ZdHQgPXRijxQBfXHmSWCGQeKLAtikbKBnV1PaKC+7F4cngt1CQunmKCR+CR4fT+F/5aOMDQEiEZs0EWn4uN6TR9Gciv6uQxsld9rjil79yajGmIYicIxCHHnSNuk4wdTP1n9Zx6VqMEZmpdL7g4KVqzkjQvQz+LdGSC8d7mefrvsqQLDspwbDnE8lsDn81ZwmvDRdU/MNWx5uBVyiiBpeI0jJ5KGSXASU0x9orwWgHXmGdyVKltv64UqBf+Pb7+So+44Lj6wKVmyeJBVSoPOUBJBw4GR5EsfgduozHjHZLj/oajU5WZ5qOYutRxkc2aXNtmrBcLyqiuHKul5ZLWKPc3cOQOKC8TyhnSlue0V2OSvyUZTy+K09eoDw9ZJV8pKqJu8fXn9ltJnDV5x6hEqiBy4LaRttdM12H2Jo01UuTgCzGH6bu5kvUMXcGjHDANSKEnjCUDBiAKtITGEEV0SpUET1rmnxYKYcBFbmqAie2TPJeogD/BOhwv4GPpao8Zdaps9rPTf5ufBeOR8WpYGLQlI89qHlTgyXlr</eBayAuthToken></RequesterCredentials><Item><CategoryMappingAllowed>true</CategoryMappingAllowed><ConditionID>3000</ConditionID><Country>US</Country><Currency>USD</Currency><Description>This is the first book in the Harry Potter series. In excellent condition!</Description><DispatchTimeMax>3</DispatchTimeMax><ListingDuration>Days_7</ListingDuration><ListingType>FixedPriceItem</ListingType><PayPalEmailAddress>robert.weyant@gmail.com</PayPalEmailAddress><PaymentMethods>PayPal</PaymentMethods><PictureDetails><PictureURL>https://upload.wikimedia.org/wikipedia/en/b/bf/Harry_Potter_and_the_Sorcerer's_Stone.jpg</PictureURL></PictureDetails><PostalCode>95125</PostalCode><PrimaryCategory><CategoryID>377</CategoryID></PrimaryCategory><Quantity>1</Quantity><ReturnPolicy><Description>If you are not satisfied, return the book for refund.</Description><RefundOption>MoneyBack</RefundOption><ReturnsAcceptedOption>ReturnsAccepted</ReturnsAcceptedOption><ReturnsWithinOption>Days_30</ReturnsWithinOption><ShippingCostPaidByOption>Buyer</ShippingCostPaidByOption></ReturnPolicy><ShippingDetails><ShippingServiceOptions><ShippingService>UPS3rdDay</ShippingService><ShippingServiceCost>2.50</ShippingServiceCost><ShippingServicePriority>1</ShippingServicePriority></ShippingServiceOptions><ShippingType>Flat</ShippingType></ShippingDetails><Site>US</Site><StartPrice>1.0</StartPrice><Title>Harry Potter and the Philosopher's Stone</Title></Item></VerifyAddFixedPriceItemRequest>\n",
      "DEBUG:ebaysdk:body=<?xml version='1.0' encoding='utf-8'?><VerifyAddFixedPriceItemRequest xmlns=\"urn:ebay:apis:eBLBaseComponents\"><RequesterCredentials><eBayAuthToken>AgAAAA**AQAAAA**aAAAAA**fg/jVQ**nY+sHZ2PrBmdj6wVnY+sEZ2PrA2dj6AGloSmAJCKpgqdj6x9nY+seQ**I2ECAA**AAMAAA**masJkFmCdZkfRve2AxAaHIdgRyrI4h0Nb7aNTrYWzV68AdhViuap3gov6e7Dbb+Ztnhzt9Q5/YpaUJANTltkj2xkfOu4cvbAgCOWDiR0WgY6vNr4S+WPT1LEy5MTr5kX9Q8HJyXgtcy7YWoCM3/hPXmwjZzbCRAHFshDoSFlruLBgYk2lBW1XScCN3psS0u0uxi9ci9Yd4vhI9ddQ7WFKEc+quCB6ZdHQgPXRijxQBfXHmSWCGQeKLAtikbKBnV1PaKC+7F4cngt1CQunmKCR+CR4fT+F/5aOMDQEiEZs0EWn4uN6TR9Gciv6uQxsld9rjil79yajGmIYicIxCHHnSNuk4wdTP1n9Zx6VqMEZmpdL7g4KVqzkjQvQz+LdGSC8d7mefrvsqQLDspwbDnE8lsDn81ZwmvDRdU/MNWx5uBVyiiBpeI0jJ5KGSXASU0x9orwWgHXmGdyVKltv64UqBf+Pb7+So+44Lj6wKVmyeJBVSoPOUBJBw4GR5EsfgduozHjHZLj/oajU5WZ5qOYutRxkc2aXNtmrBcLyqiuHKul5ZLWKPc3cOQOKC8TyhnSlue0V2OSvyUZTy+K09eoDw9ZJV8pKqJu8fXn9ltJnDV5x6hEqiBy4LaRttdM12H2Jo01UuTgCzGH6bu5kvUMXcGjHDANSKEnjCUDBiAKtITGEEV0SpUET1rmnxYKYcBFbmqAie2TPJeogD/BOhwv4GPpao8Zdaps9rPTf5ufBeOR8WpYGLQlI89qHlTgyXlr</eBayAuthToken></RequesterCredentials><Item><CategoryMappingAllowed>true</CategoryMappingAllowed><ConditionID>3000</ConditionID><Country>US</Country><Currency>USD</Currency><Description>This is the first book in the Harry Potter series. In excellent condition!</Description><DispatchTimeMax>3</DispatchTimeMax><ListingDuration>Days_7</ListingDuration><ListingType>FixedPriceItem</ListingType><PayPalEmailAddress>robert.weyant@gmail.com</PayPalEmailAddress><PaymentMethods>PayPal</PaymentMethods><PictureDetails><PictureURL>https://upload.wikimedia.org/wikipedia/en/b/bf/Harry_Potter_and_the_Sorcerer's_Stone.jpg</PictureURL></PictureDetails><PostalCode>95125</PostalCode><PrimaryCategory><CategoryID>377</CategoryID></PrimaryCategory><Quantity>1</Quantity><ReturnPolicy><Description>If you are not satisfied, return the book for refund.</Description><RefundOption>MoneyBack</RefundOption><ReturnsAcceptedOption>ReturnsAccepted</ReturnsAcceptedOption><ReturnsWithinOption>Days_30</ReturnsWithinOption><ShippingCostPaidByOption>Buyer</ShippingCostPaidByOption></ReturnPolicy><ShippingDetails><ShippingServiceOptions><ShippingService>UPS3rdDay</ShippingService><ShippingServiceCost>2.50</ShippingServiceCost><ShippingServicePriority>1</ShippingServicePriority></ShippingServiceOptions><ShippingType>Flat</ShippingType></ShippingDetails><Site>US</Site><StartPrice>1.0</StartPrice><Title>Harry Potter and the Philosopher's Stone</Title></Item></VerifyAddFixedPriceItemRequest>\n",
      "2015-08-31 07:20:11,195 ebaysdk [DEBUG]:RESPONSE (86da1c09-68fd-4440-92d1-9bfe38e236a4):\n",
      "DEBUG:ebaysdk:RESPONSE (86da1c09-68fd-4440-92d1-9bfe38e236a4):\n",
      "2015-08-31 07:20:11,197 ebaysdk [DEBUG]:elapsed time=0:00:03.048361\n",
      "DEBUG:ebaysdk:elapsed time=0:00:03.048361\n",
      "2015-08-31 07:20:11,200 ebaysdk [DEBUG]:status code=200\n",
      "DEBUG:ebaysdk:status code=200\n",
      "2015-08-31 07:20:11,202 ebaysdk [DEBUG]:headers={'x-ebay-request-id': '14f837c4-2db0-a5e4-5807-7967e2cdb65e!ws.api.dll!10.94.69.128!esbtrading[', 'content-length': '2829', 'x-ebay-esb-app-name': 'RobertWe-df04-448e-9531-7b724fabb896', 'content-type': 'text/xml', 'x-ebay-esb-call-name': 'VerifyAddFixedPriceItem', 'server': 'Apache-Coyote/1.1', 'x-ebay-api-server-name': '___dWtgMWQ3MmYrZTZmPigyNSg+Nys0MjcrNzQxPz43OzU=', 'date': 'Mon, 31 Aug 2015 11:20:05 GMT', 'x-ebay-esb-guid': 'urn:uuid:e46ab055-e575-4765-ab55-24b33366964e', 'guid': '14f837c4-2db0-a5e4-5807-7967e2cdb65e', 'x-ebay-api-pool-name': '___cDRidW8ydmtv', 'x-ebay-esb-siteid': '0'}\n",
      "DEBUG:ebaysdk:headers={'x-ebay-request-id': '14f837c4-2db0-a5e4-5807-7967e2cdb65e!ws.api.dll!10.94.69.128!esbtrading[', 'content-length': '2829', 'x-ebay-esb-app-name': 'RobertWe-df04-448e-9531-7b724fabb896', 'content-type': 'text/xml', 'x-ebay-esb-call-name': 'VerifyAddFixedPriceItem', 'server': 'Apache-Coyote/1.1', 'x-ebay-api-server-name': '___dWtgMWQ3MmYrZTZmPigyNSg+Nys0MjcrNzQxPz43OzU=', 'date': 'Mon, 31 Aug 2015 11:20:05 GMT', 'x-ebay-esb-guid': 'urn:uuid:e46ab055-e575-4765-ab55-24b33366964e', 'guid': '14f837c4-2db0-a5e4-5807-7967e2cdb65e', 'x-ebay-api-pool-name': '___cDRidW8ydmtv', 'x-ebay-esb-siteid': '0'}\n",
      "2015-08-31 07:20:11,204 ebaysdk [DEBUG]:content=<?xml version=\"1.0\" encoding=\"UTF-8\"?>\n",
      "<VerifyAddFixedPriceItemResponse xmlns=\"urn:ebay:apis:eBLBaseComponents\"><Timestamp>2015-08-31T11:20:05.658Z</Timestamp><Ack>Warning</Ack><Errors><ShortMessage>Funds from your sales will be unavailable and show as pending in your PayPal account for a period of time.</ShortMessage><LongMessage>Funds from your sales will be unavailable and show as pending in your PayPal account for a period of time. Learn more: http://cgi6.ebay.com/ws/eBayISAPI.dll?UserPolicyMessaging</LongMessage><ErrorCode>21917236</ErrorCode><SeverityCode>Warning</SeverityCode><ErrorParameters ParamID=\"0\"><Value>http://cgi6.ebay.com/ws/eBayISAPI.dll?UserPolicyMessaging</Value></ErrorParameters><ErrorClassification>RequestError</ErrorClassification></Errors><Version>937</Version><Build>E937_UNI_API5_17654032_R1</Build><ItemID>0</ItemID><Fees><Fee><Name>AuctionLengthFee</Name><Fee currencyID=\"USD\">0.0</Fee></Fee><Fee><Name>BoldFee</Name><Fee currencyID=\"USD\">0.0</Fee></Fee><Fee><Name>BuyItNowFee</Name><Fee currencyID=\"USD\">0.0</Fee></Fee><Fee><Name>CategoryFeaturedFee</Name><Fee currencyID=\"USD\">0.0</Fee></Fee><Fee><Name>FeaturedFee</Name><Fee currencyID=\"USD\">0.0</Fee></Fee><Fee><Name>GalleryPlusFee</Name><Fee currencyID=\"USD\">0.0</Fee></Fee><Fee><Name>FeaturedGalleryFee</Name><Fee currencyID=\"USD\">0.0</Fee></Fee><Fee><Name>FixedPriceDurationFee</Name><Fee currencyID=\"USD\">0.0</Fee></Fee><Fee><Name>GalleryFee</Name><Fee currencyID=\"USD\">0.0</Fee></Fee><Fee><Name>GiftIconFee</Name><Fee currencyID=\"USD\">0.0</Fee></Fee><Fee><Name>HighLightFee</Name><Fee currencyID=\"USD\">0.0</Fee></Fee><Fee><Name>InsertionFee</Name><Fee currencyID=\"USD\">0.3</Fee></Fee><Fee><Name>InternationalInsertionFee</Name><Fee currencyID=\"USD\">0.0</Fee></Fee><Fee><Name>ListingDesignerFee</Name><Fee currencyID=\"USD\">0.0</Fee></Fee><Fee><Name>ListingFee</Name><Fee currencyID=\"USD\">0.3</Fee></Fee><Fee><Name>PhotoDisplayFee</Name><Fee currencyID=\"USD\">0.0</Fee></Fee><Fee><Name>PhotoFee</Name><Fee currencyID=\"USD\">0.0</Fee></Fee><Fee><Name>ReserveFee</Name><Fee currencyID=\"USD\">0.0</Fee></Fee><Fee><Name>SchedulingFee</Name><Fee currencyID=\"USD\">0.0</Fee></Fee><Fee><Name>SubtitleFee</Name><Fee currencyID=\"USD\">0.0</Fee></Fee><Fee><Name>BorderFee</Name><Fee currencyID=\"USD\">0.0</Fee></Fee><Fee><Name>ProPackBundleFee</Name><Fee currencyID=\"USD\">0.0</Fee></Fee><Fee><Name>BasicUpgradePackBundleFee</Name><Fee currencyID=\"USD\">0.0</Fee></Fee><Fee><Name>ValuePackBundleFee</Name><Fee currencyID=\"USD\">0.0</Fee></Fee><Fee><Name>PrivateListingFee</Name><Fee currencyID=\"USD\">0.0</Fee></Fee><Fee><Name>ProPackPlusBundleFee</Name><Fee currencyID=\"USD\">0.0</Fee></Fee><Fee><Name>MotorsGermanySearchFee</Name><Fee currencyID=\"USD\">0.0</Fee></Fee></Fees><DiscountReason>SpecialOffer</DiscountReason></VerifyAddFixedPriceItemResponse>\n",
      "DEBUG:ebaysdk:content=<?xml version=\"1.0\" encoding=\"UTF-8\"?>\n",
      "<VerifyAddFixedPriceItemResponse xmlns=\"urn:ebay:apis:eBLBaseComponents\"><Timestamp>2015-08-31T11:20:05.658Z</Timestamp><Ack>Warning</Ack><Errors><ShortMessage>Funds from your sales will be unavailable and show as pending in your PayPal account for a period of time.</ShortMessage><LongMessage>Funds from your sales will be unavailable and show as pending in your PayPal account for a period of time. Learn more: http://cgi6.ebay.com/ws/eBayISAPI.dll?UserPolicyMessaging</LongMessage><ErrorCode>21917236</ErrorCode><SeverityCode>Warning</SeverityCode><ErrorParameters ParamID=\"0\"><Value>http://cgi6.ebay.com/ws/eBayISAPI.dll?UserPolicyMessaging</Value></ErrorParameters><ErrorClassification>RequestError</ErrorClassification></Errors><Version>937</Version><Build>E937_UNI_API5_17654032_R1</Build><ItemID>0</ItemID><Fees><Fee><Name>AuctionLengthFee</Name><Fee currencyID=\"USD\">0.0</Fee></Fee><Fee><Name>BoldFee</Name><Fee currencyID=\"USD\">0.0</Fee></Fee><Fee><Name>BuyItNowFee</Name><Fee currencyID=\"USD\">0.0</Fee></Fee><Fee><Name>CategoryFeaturedFee</Name><Fee currencyID=\"USD\">0.0</Fee></Fee><Fee><Name>FeaturedFee</Name><Fee currencyID=\"USD\">0.0</Fee></Fee><Fee><Name>GalleryPlusFee</Name><Fee currencyID=\"USD\">0.0</Fee></Fee><Fee><Name>FeaturedGalleryFee</Name><Fee currencyID=\"USD\">0.0</Fee></Fee><Fee><Name>FixedPriceDurationFee</Name><Fee currencyID=\"USD\">0.0</Fee></Fee><Fee><Name>GalleryFee</Name><Fee currencyID=\"USD\">0.0</Fee></Fee><Fee><Name>GiftIconFee</Name><Fee currencyID=\"USD\">0.0</Fee></Fee><Fee><Name>HighLightFee</Name><Fee currencyID=\"USD\">0.0</Fee></Fee><Fee><Name>InsertionFee</Name><Fee currencyID=\"USD\">0.3</Fee></Fee><Fee><Name>InternationalInsertionFee</Name><Fee currencyID=\"USD\">0.0</Fee></Fee><Fee><Name>ListingDesignerFee</Name><Fee currencyID=\"USD\">0.0</Fee></Fee><Fee><Name>ListingFee</Name><Fee currencyID=\"USD\">0.3</Fee></Fee><Fee><Name>PhotoDisplayFee</Name><Fee currencyID=\"USD\">0.0</Fee></Fee><Fee><Name>PhotoFee</Name><Fee currencyID=\"USD\">0.0</Fee></Fee><Fee><Name>ReserveFee</Name><Fee currencyID=\"USD\">0.0</Fee></Fee><Fee><Name>SchedulingFee</Name><Fee currencyID=\"USD\">0.0</Fee></Fee><Fee><Name>SubtitleFee</Name><Fee currencyID=\"USD\">0.0</Fee></Fee><Fee><Name>BorderFee</Name><Fee currencyID=\"USD\">0.0</Fee></Fee><Fee><Name>ProPackBundleFee</Name><Fee currencyID=\"USD\">0.0</Fee></Fee><Fee><Name>BasicUpgradePackBundleFee</Name><Fee currencyID=\"USD\">0.0</Fee></Fee><Fee><Name>ValuePackBundleFee</Name><Fee currencyID=\"USD\">0.0</Fee></Fee><Fee><Name>PrivateListingFee</Name><Fee currencyID=\"USD\">0.0</Fee></Fee><Fee><Name>ProPackPlusBundleFee</Name><Fee currencyID=\"USD\">0.0</Fee></Fee><Fee><Name>MotorsGermanySearchFee</Name><Fee currencyID=\"USD\">0.0</Fee></Fee></Fees><DiscountReason>SpecialOffer</DiscountReason></VerifyAddFixedPriceItemResponse>\n",
      "2015-08-31 07:20:11,209 ebaysdk [DEBUG]:total time=3.06912708282\n",
      "DEBUG:ebaysdk:total time=3.06912708282\n"
     ]
    }
   ],
   "source": [
    "test_item_ups=verifyAddItemErrorCodes()\n"
   ]
  },
  {
   "cell_type": "code",
   "execution_count": 153,
   "metadata": {
    "collapsed": false
   },
   "outputs": [
    {
     "name": "stdout",
     "output_type": "stream",
     "text": [
      "Warning\n",
      "Warning\n",
      "181852664298\n"
     ]
    }
   ],
   "source": [
    "print test_item_ups.reply.Ack\n",
    "\n",
    "print test_item.reply.Ack\n",
    "print test_item.reply.ItemID\n",
    "\n"
   ]
  },
  {
   "cell_type": "code",
   "execution_count": null,
   "metadata": {
    "collapsed": true
   },
   "outputs": [],
   "source": []
  },
  {
   "cell_type": "code",
   "execution_count": 154,
   "metadata": {
    "collapsed": true
   },
   "outputs": [],
   "source": [
    "def ReviseFixedPriceItem():\n",
    "    \"\"\"http://www.utilities-online.info/xmltojson/#.UXli2it4avc\"\"\"\n",
    "\n",
    "    appid='RobertWe-df04-448e-9531-7b724fabb896'\n",
    "    devid='bead5360-78e5-4271-b541-a31ac39c93dc'\n",
    "    certid='abb3714b-53f3-4184-b0bf-996cabd17cd3'\n",
    "\n",
    "    config_file='/media/roberto/Main Storage/Documents/Oauth/ebay/ebay_api_config.yaml'\n",
    "    \n",
    "    try:\n",
    "        api = Trading(config_file=config_file, appid=appid,\n",
    "                      certid=certid, devid=devid, warnings=False)\n",
    "\n",
    "        myitem = {\n",
    "            \"Item\": {\n",
    "                \"ItemID\": \"181852664298\",\n",
    "                \"StartPrice\":\"200\"\n",
    "                \n",
    "            }\n",
    "        }\n",
    "\n",
    "        return(api.execute('ReviseFixedPriceItem', myitem))\n",
    "        \n",
    "    except ConnectionError as e:\n",
    "        print(e)\n",
    "        print(e.response.dict())\n"
   ]
  },
  {
   "cell_type": "code",
   "execution_count": 155,
   "metadata": {
    "collapsed": false
   },
   "outputs": [
    {
     "name": "stderr",
     "output_type": "stream",
     "text": [
      "2015-08-31 18:23:51,476 ebaysdk [DEBUG]:execute: verb=ReviseFixedPriceItem data={'Item': {'ItemID': '181852664298', 'StartPrice': '200'}}\n",
      "DEBUG:ebaysdk:execute: verb=ReviseFixedPriceItem data={'Item': {'ItemID': '181852664298', 'StartPrice': '200'}}\n",
      "2015-08-31 18:23:51,477 ebaysdk [DEBUG]:REQUEST (dd178d01-e16b-4832-8915-4aaf003285e9): POST https://api.ebay.com/ws/api.dll\n",
      "DEBUG:ebaysdk:REQUEST (dd178d01-e16b-4832-8915-4aaf003285e9): POST https://api.ebay.com/ws/api.dll\n",
      "2015-08-31 18:23:51,478 ebaysdk [DEBUG]:headers={'X-EBAY-API-SITEID': 0, 'X-EBAY-API-DEV-NAME': 'bead5360-78e5-4271-b541-a31ac39c93dc', 'X-EBAY-API-CERT-NAME': 'abb3714b-53f3-4184-b0bf-996cabd17cd3', 'Content-Length': '1155', 'X-EBAY-API-APP-NAME': 'RobertWe-df04-448e-9531-7b724fabb896', 'X-EBAY-API-COMPATIBILITY-LEVEL': u'933', 'X-EBAY-SDK-REQUEST-ID': 'dd178d01-e16b-4832-8915-4aaf003285e9', 'X-EBAY-API-CALL-NAME': 'ReviseFixedPriceItem', 'User-Agent': 'eBaySDK/2.1.2 Python/2.7.10 Linux/3.16.0-46-generic', 'Content-Type': 'text/xml'}\n",
      "DEBUG:ebaysdk:headers={'X-EBAY-API-SITEID': 0, 'X-EBAY-API-DEV-NAME': 'bead5360-78e5-4271-b541-a31ac39c93dc', 'X-EBAY-API-CERT-NAME': 'abb3714b-53f3-4184-b0bf-996cabd17cd3', 'Content-Length': '1155', 'X-EBAY-API-APP-NAME': 'RobertWe-df04-448e-9531-7b724fabb896', 'X-EBAY-API-COMPATIBILITY-LEVEL': u'933', 'X-EBAY-SDK-REQUEST-ID': 'dd178d01-e16b-4832-8915-4aaf003285e9', 'X-EBAY-API-CALL-NAME': 'ReviseFixedPriceItem', 'User-Agent': 'eBaySDK/2.1.2 Python/2.7.10 Linux/3.16.0-46-generic', 'Content-Type': 'text/xml'}\n",
      "2015-08-31 18:23:51,479 ebaysdk [DEBUG]:body=<?xml version='1.0' encoding='utf-8'?><ReviseFixedPriceItemRequest xmlns=\"urn:ebay:apis:eBLBaseComponents\"><RequesterCredentials><eBayAuthToken>AgAAAA**AQAAAA**aAAAAA**fg/jVQ**nY+sHZ2PrBmdj6wVnY+sEZ2PrA2dj6AGloSmAJCKpgqdj6x9nY+seQ**I2ECAA**AAMAAA**masJkFmCdZkfRve2AxAaHIdgRyrI4h0Nb7aNTrYWzV68AdhViuap3gov6e7Dbb+Ztnhzt9Q5/YpaUJANTltkj2xkfOu4cvbAgCOWDiR0WgY6vNr4S+WPT1LEy5MTr5kX9Q8HJyXgtcy7YWoCM3/hPXmwjZzbCRAHFshDoSFlruLBgYk2lBW1XScCN3psS0u0uxi9ci9Yd4vhI9ddQ7WFKEc+quCB6ZdHQgPXRijxQBfXHmSWCGQeKLAtikbKBnV1PaKC+7F4cngt1CQunmKCR+CR4fT+F/5aOMDQEiEZs0EWn4uN6TR9Gciv6uQxsld9rjil79yajGmIYicIxCHHnSNuk4wdTP1n9Zx6VqMEZmpdL7g4KVqzkjQvQz+LdGSC8d7mefrvsqQLDspwbDnE8lsDn81ZwmvDRdU/MNWx5uBVyiiBpeI0jJ5KGSXASU0x9orwWgHXmGdyVKltv64UqBf+Pb7+So+44Lj6wKVmyeJBVSoPOUBJBw4GR5EsfgduozHjHZLj/oajU5WZ5qOYutRxkc2aXNtmrBcLyqiuHKul5ZLWKPc3cOQOKC8TyhnSlue0V2OSvyUZTy+K09eoDw9ZJV8pKqJu8fXn9ltJnDV5x6hEqiBy4LaRttdM12H2Jo01UuTgCzGH6bu5kvUMXcGjHDANSKEnjCUDBiAKtITGEEV0SpUET1rmnxYKYcBFbmqAie2TPJeogD/BOhwv4GPpao8Zdaps9rPTf5ufBeOR8WpYGLQlI89qHlTgyXlr</eBayAuthToken></RequesterCredentials><Item><ItemID>181852664298</ItemID><StartPrice>200</StartPrice></Item></ReviseFixedPriceItemRequest>\n",
      "DEBUG:ebaysdk:body=<?xml version='1.0' encoding='utf-8'?><ReviseFixedPriceItemRequest xmlns=\"urn:ebay:apis:eBLBaseComponents\"><RequesterCredentials><eBayAuthToken>AgAAAA**AQAAAA**aAAAAA**fg/jVQ**nY+sHZ2PrBmdj6wVnY+sEZ2PrA2dj6AGloSmAJCKpgqdj6x9nY+seQ**I2ECAA**AAMAAA**masJkFmCdZkfRve2AxAaHIdgRyrI4h0Nb7aNTrYWzV68AdhViuap3gov6e7Dbb+Ztnhzt9Q5/YpaUJANTltkj2xkfOu4cvbAgCOWDiR0WgY6vNr4S+WPT1LEy5MTr5kX9Q8HJyXgtcy7YWoCM3/hPXmwjZzbCRAHFshDoSFlruLBgYk2lBW1XScCN3psS0u0uxi9ci9Yd4vhI9ddQ7WFKEc+quCB6ZdHQgPXRijxQBfXHmSWCGQeKLAtikbKBnV1PaKC+7F4cngt1CQunmKCR+CR4fT+F/5aOMDQEiEZs0EWn4uN6TR9Gciv6uQxsld9rjil79yajGmIYicIxCHHnSNuk4wdTP1n9Zx6VqMEZmpdL7g4KVqzkjQvQz+LdGSC8d7mefrvsqQLDspwbDnE8lsDn81ZwmvDRdU/MNWx5uBVyiiBpeI0jJ5KGSXASU0x9orwWgHXmGdyVKltv64UqBf+Pb7+So+44Lj6wKVmyeJBVSoPOUBJBw4GR5EsfgduozHjHZLj/oajU5WZ5qOYutRxkc2aXNtmrBcLyqiuHKul5ZLWKPc3cOQOKC8TyhnSlue0V2OSvyUZTy+K09eoDw9ZJV8pKqJu8fXn9ltJnDV5x6hEqiBy4LaRttdM12H2Jo01UuTgCzGH6bu5kvUMXcGjHDANSKEnjCUDBiAKtITGEEV0SpUET1rmnxYKYcBFbmqAie2TPJeogD/BOhwv4GPpao8Zdaps9rPTf5ufBeOR8WpYGLQlI89qHlTgyXlr</eBayAuthToken></RequesterCredentials><Item><ItemID>181852664298</ItemID><StartPrice>200</StartPrice></Item></ReviseFixedPriceItemRequest>\n",
      "2015-08-31 18:23:55,704 ebaysdk [DEBUG]:RESPONSE (dd178d01-e16b-4832-8915-4aaf003285e9):\n",
      "DEBUG:ebaysdk:RESPONSE (dd178d01-e16b-4832-8915-4aaf003285e9):\n",
      "2015-08-31 18:23:55,705 ebaysdk [DEBUG]:elapsed time=0:00:04.223012\n",
      "DEBUG:ebaysdk:elapsed time=0:00:04.223012\n",
      "2015-08-31 18:23:55,705 ebaysdk [DEBUG]:status code=200\n",
      "DEBUG:ebaysdk:status code=200\n",
      "2015-08-31 18:23:55,706 ebaysdk [DEBUG]:headers={'x-ebay-request-id': '14f85dbe-61b0-a624-ccc7-5997fb231e59!ws.api.dll!10.98.76.204!esbtrading[', 'content-length': '2879', 'x-ebay-esb-app-name': 'RobertWe-df04-448e-9531-7b724fabb896', 'content-type': 'text/xml', 'x-ebay-esb-call-name': 'ReviseFixedPriceItem', 'server': 'Apache-Coyote/1.1', 'x-ebay-api-server-name': '___ZW9nNGQ3MWYrYWJnZygyNSg+OysxNS03MT07NT43', 'date': 'Mon, 31 Aug 2015 22:23:48 GMT', 'x-ebay-esb-guid': 'urn:uuid:80faa1c0-fae8-4e89-b7c4-5960c4e820f7', 'guid': '14f85dbe-61b0-a624-ccc7-5997fb231e59', 'x-ebay-api-pool-name': '___cDRidW8ydmtv', 'x-ebay-esb-siteid': '0'}\n",
      "DEBUG:ebaysdk:headers={'x-ebay-request-id': '14f85dbe-61b0-a624-ccc7-5997fb231e59!ws.api.dll!10.98.76.204!esbtrading[', 'content-length': '2879', 'x-ebay-esb-app-name': 'RobertWe-df04-448e-9531-7b724fabb896', 'content-type': 'text/xml', 'x-ebay-esb-call-name': 'ReviseFixedPriceItem', 'server': 'Apache-Coyote/1.1', 'x-ebay-api-server-name': '___ZW9nNGQ3MWYrYWJnZygyNSg+OysxNS03MT07NT43', 'date': 'Mon, 31 Aug 2015 22:23:48 GMT', 'x-ebay-esb-guid': 'urn:uuid:80faa1c0-fae8-4e89-b7c4-5960c4e820f7', 'guid': '14f85dbe-61b0-a624-ccc7-5997fb231e59', 'x-ebay-api-pool-name': '___cDRidW8ydmtv', 'x-ebay-esb-siteid': '0'}\n",
      "2015-08-31 18:23:55,707 ebaysdk [DEBUG]:content=<?xml version=\"1.0\" encoding=\"UTF-8\"?>\n",
      "<ReviseFixedPriceItemResponse xmlns=\"urn:ebay:apis:eBLBaseComponents\"><Timestamp>2015-08-31T22:23:48.808Z</Timestamp><Ack>Warning</Ack><Errors><ShortMessage>Funds from your sales will be unavailable and show as pending in your PayPal account for a period of time.</ShortMessage><LongMessage>Funds from your sales will be unavailable and show as pending in your PayPal account for a period of time. Learn more: http://cgi6.ebay.com/ws/eBayISAPI.dll?UserPolicyMessaging</LongMessage><ErrorCode>21917236</ErrorCode><SeverityCode>Warning</SeverityCode><ErrorParameters ParamID=\"0\"><Value>http://cgi6.ebay.com/ws/eBayISAPI.dll?UserPolicyMessaging</Value></ErrorParameters><ErrorClassification>RequestError</ErrorClassification></Errors><Version>935</Version><Build>E935_UNI_API5_17637095_R1</Build><ItemID>181852664298</ItemID><StartTime>2015-08-31T11:10:50.000Z</StartTime><EndTime>2015-09-07T11:10:50.000Z</EndTime><Fees><Fee><Name>AuctionLengthFee</Name><Fee currencyID=\"USD\">0.0</Fee></Fee><Fee><Name>BoldFee</Name><Fee currencyID=\"USD\">0.0</Fee></Fee><Fee><Name>BuyItNowFee</Name><Fee currencyID=\"USD\">0.0</Fee></Fee><Fee><Name>CategoryFeaturedFee</Name><Fee currencyID=\"USD\">0.0</Fee></Fee><Fee><Name>FeaturedFee</Name><Fee currencyID=\"USD\">0.0</Fee></Fee><Fee><Name>GalleryPlusFee</Name><Fee currencyID=\"USD\">0.0</Fee></Fee><Fee><Name>FeaturedGalleryFee</Name><Fee currencyID=\"USD\">0.0</Fee></Fee><Fee><Name>FixedPriceDurationFee</Name><Fee currencyID=\"USD\">0.0</Fee></Fee><Fee><Name>GalleryFee</Name><Fee currencyID=\"USD\">0.0</Fee></Fee><Fee><Name>GiftIconFee</Name><Fee currencyID=\"USD\">0.0</Fee></Fee><Fee><Name>HighLightFee</Name><Fee currencyID=\"USD\">0.0</Fee></Fee><Fee><Name>InsertionFee</Name><Fee currencyID=\"USD\">0.0</Fee></Fee><Fee><Name>InternationalInsertionFee</Name><Fee currencyID=\"USD\">0.0</Fee></Fee><Fee><Name>ListingDesignerFee</Name><Fee currencyID=\"USD\">0.0</Fee></Fee><Fee><Name>ListingFee</Name><Fee currencyID=\"USD\">0.0</Fee></Fee><Fee><Name>PhotoDisplayFee</Name><Fee currencyID=\"USD\">0.0</Fee></Fee><Fee><Name>PhotoFee</Name><Fee currencyID=\"USD\">0.0</Fee></Fee><Fee><Name>ReserveFee</Name><Fee currencyID=\"USD\">0.0</Fee></Fee><Fee><Name>SchedulingFee</Name><Fee currencyID=\"USD\">0.0</Fee></Fee><Fee><Name>SubtitleFee</Name><Fee currencyID=\"USD\">0.0</Fee></Fee><Fee><Name>BorderFee</Name><Fee currencyID=\"USD\">0.0</Fee></Fee><Fee><Name>ProPackBundleFee</Name><Fee currencyID=\"USD\">0.0</Fee></Fee><Fee><Name>BasicUpgradePackBundleFee</Name><Fee currencyID=\"USD\">0.0</Fee></Fee><Fee><Name>ValuePackBundleFee</Name><Fee currencyID=\"USD\">0.0</Fee></Fee><Fee><Name>PrivateListingFee</Name><Fee currencyID=\"USD\">0.0</Fee></Fee><Fee><Name>ProPackPlusBundleFee</Name><Fee currencyID=\"USD\">0.0</Fee></Fee><Fee><Name>MotorsGermanySearchFee</Name><Fee currencyID=\"USD\">0.0</Fee></Fee></Fees></ReviseFixedPriceItemResponse>\n",
      "DEBUG:ebaysdk:content=<?xml version=\"1.0\" encoding=\"UTF-8\"?>\n",
      "<ReviseFixedPriceItemResponse xmlns=\"urn:ebay:apis:eBLBaseComponents\"><Timestamp>2015-08-31T22:23:48.808Z</Timestamp><Ack>Warning</Ack><Errors><ShortMessage>Funds from your sales will be unavailable and show as pending in your PayPal account for a period of time.</ShortMessage><LongMessage>Funds from your sales will be unavailable and show as pending in your PayPal account for a period of time. Learn more: http://cgi6.ebay.com/ws/eBayISAPI.dll?UserPolicyMessaging</LongMessage><ErrorCode>21917236</ErrorCode><SeverityCode>Warning</SeverityCode><ErrorParameters ParamID=\"0\"><Value>http://cgi6.ebay.com/ws/eBayISAPI.dll?UserPolicyMessaging</Value></ErrorParameters><ErrorClassification>RequestError</ErrorClassification></Errors><Version>935</Version><Build>E935_UNI_API5_17637095_R1</Build><ItemID>181852664298</ItemID><StartTime>2015-08-31T11:10:50.000Z</StartTime><EndTime>2015-09-07T11:10:50.000Z</EndTime><Fees><Fee><Name>AuctionLengthFee</Name><Fee currencyID=\"USD\">0.0</Fee></Fee><Fee><Name>BoldFee</Name><Fee currencyID=\"USD\">0.0</Fee></Fee><Fee><Name>BuyItNowFee</Name><Fee currencyID=\"USD\">0.0</Fee></Fee><Fee><Name>CategoryFeaturedFee</Name><Fee currencyID=\"USD\">0.0</Fee></Fee><Fee><Name>FeaturedFee</Name><Fee currencyID=\"USD\">0.0</Fee></Fee><Fee><Name>GalleryPlusFee</Name><Fee currencyID=\"USD\">0.0</Fee></Fee><Fee><Name>FeaturedGalleryFee</Name><Fee currencyID=\"USD\">0.0</Fee></Fee><Fee><Name>FixedPriceDurationFee</Name><Fee currencyID=\"USD\">0.0</Fee></Fee><Fee><Name>GalleryFee</Name><Fee currencyID=\"USD\">0.0</Fee></Fee><Fee><Name>GiftIconFee</Name><Fee currencyID=\"USD\">0.0</Fee></Fee><Fee><Name>HighLightFee</Name><Fee currencyID=\"USD\">0.0</Fee></Fee><Fee><Name>InsertionFee</Name><Fee currencyID=\"USD\">0.0</Fee></Fee><Fee><Name>InternationalInsertionFee</Name><Fee currencyID=\"USD\">0.0</Fee></Fee><Fee><Name>ListingDesignerFee</Name><Fee currencyID=\"USD\">0.0</Fee></Fee><Fee><Name>ListingFee</Name><Fee currencyID=\"USD\">0.0</Fee></Fee><Fee><Name>PhotoDisplayFee</Name><Fee currencyID=\"USD\">0.0</Fee></Fee><Fee><Name>PhotoFee</Name><Fee currencyID=\"USD\">0.0</Fee></Fee><Fee><Name>ReserveFee</Name><Fee currencyID=\"USD\">0.0</Fee></Fee><Fee><Name>SchedulingFee</Name><Fee currencyID=\"USD\">0.0</Fee></Fee><Fee><Name>SubtitleFee</Name><Fee currencyID=\"USD\">0.0</Fee></Fee><Fee><Name>BorderFee</Name><Fee currencyID=\"USD\">0.0</Fee></Fee><Fee><Name>ProPackBundleFee</Name><Fee currencyID=\"USD\">0.0</Fee></Fee><Fee><Name>BasicUpgradePackBundleFee</Name><Fee currencyID=\"USD\">0.0</Fee></Fee><Fee><Name>ValuePackBundleFee</Name><Fee currencyID=\"USD\">0.0</Fee></Fee><Fee><Name>PrivateListingFee</Name><Fee currencyID=\"USD\">0.0</Fee></Fee><Fee><Name>ProPackPlusBundleFee</Name><Fee currencyID=\"USD\">0.0</Fee></Fee><Fee><Name>MotorsGermanySearchFee</Name><Fee currencyID=\"USD\">0.0</Fee></Fee></Fees></ReviseFixedPriceItemResponse>\n",
      "2015-08-31 18:23:55,710 ebaysdk [DEBUG]:total time=4.23324489594\n",
      "DEBUG:ebaysdk:total time=4.23324489594\n"
     ]
    }
   ],
   "source": [
    "test_revise=ReviseFixedPriceItem()"
   ]
  },
  {
   "cell_type": "code",
   "execution_count": 156,
   "metadata": {
    "collapsed": false
   },
   "outputs": [
    {
     "name": "stdout",
     "output_type": "stream",
     "text": [
      "Warning\n"
     ]
    }
   ],
   "source": [
    "print test_revise.reply.Ack"
   ]
  },
  {
   "cell_type": "code",
   "execution_count": null,
   "metadata": {
    "collapsed": true
   },
   "outputs": [],
   "source": []
  },
  {
   "cell_type": "code",
   "execution_count": 17,
   "metadata": {
    "collapsed": true
   },
   "outputs": [],
   "source": [
    "\n",
    "def find_ebay_items(\n",
    "    keywords='legos',\n",
    "    appid='RobertWe-df04-448e-9531-7b724fabb896',\n",
    "    config_file='/media/roberto/Main Storage/Documents/Oauth/ebay/ebay_api_config.yaml'\n",
    "    ):\n",
    "\n",
    "    ebay_api=Finding(appid=appid,config_file=config_file,domain='svcs.ebay.com')\n",
    "    api_request={\n",
    "        'keywords':keywords,\n",
    "        'itemFilter':[\n",
    "            {'name':'Condition',\n",
    "            'value':'New'},\n",
    "            {'name':'LocatedIn',\n",
    "            'value':'US'}\n",
    "        ],\n",
    "        'sortOrder': 'BestMatch'\n",
    "    }\n",
    "\n",
    "    response = ebay_api.execute('findItemsAdvanced', api_request)\n",
    "    return(response.reply.searchResult.item)\n",
    "    "
   ]
  }
 ],
 "metadata": {
  "kernelspec": {
   "display_name": "Python 2",
   "language": "python",
   "name": "python2"
  },
  "language_info": {
   "codemirror_mode": {
    "name": "ipython",
    "version": 2
   },
   "file_extension": ".py",
   "mimetype": "text/x-python",
   "name": "python",
   "nbconvert_exporter": "python",
   "pygments_lexer": "ipython2",
   "version": "2.7.10"
  }
 },
 "nbformat": 4,
 "nbformat_minor": 0
}
